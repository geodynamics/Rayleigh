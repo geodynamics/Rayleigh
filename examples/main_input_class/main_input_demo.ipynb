{
 "cells": [
  {
   "cell_type": "markdown",
   "id": "0d34e892",
   "metadata": {},
   "source": [
    "# The Main_Input Class \n",
    "\n",
    "This notebook demonstrates how to use the main_input class.   The main_input class was developed primarily to assist with parameter-space studies, but it may be useful in other situations as well.  We begin with an overview of how to work with main_input objects in python, and then provide an example of how they might be used to help initiate a parameter space study.   Before running this notebook, please copy 'Rayleigh/post_processing/benchmark_diagnostics_input' to the directory from within which you are running this notebook.  Within that directory, you should find a \"jobinfo.txt\" and \"main_input\" file that will be used in the examples below.\n",
    "\n",
    "\n",
    "Documentation for all methods and attributes of this class can be accessed via Python's help function, as illustrated below following the import."
   ]
  },
  {
   "cell_type": "code",
   "execution_count": null,
   "id": "8d5d115c",
   "metadata": {},
   "outputs": [],
   "source": [
    "from rayleigh_diagnostics import main_input\n",
    "help(main_input)"
   ]
  },
  {
   "cell_type": "markdown",
   "id": "0054f067",
   "metadata": {},
   "source": [
    "## Initialization\n",
    "\n",
    "To initialize an instance of the main_input class, we must provide a main_input or jobinfo.txt file.   That file will be used to define and initialize the object's internal namelist structure.  An important point to keep in mind is that the namelist structure derives entirely from the main_input file.  Values omitted in the main_input file are not defined for the main_input class.  There are workarounds for this illustrated below.   To begin, let's read in a main_input file (one is provided within the directory that containst his notebook) and view its contents. The most straightforward way to do this is by using Python's print function, which will display all namelist entries that have been assigned a value."
   ]
  },
  {
   "cell_type": "code",
   "execution_count": null,
   "id": "44154b4c",
   "metadata": {},
   "outputs": [],
   "source": [
    "mi = main_input('main_input')\n",
    "print(mi) "
   ]
  },
  {
   "cell_type": "markdown",
   "id": "c4f6fb6c",
   "metadata": {},
   "source": [
    "## The write and set Methods\n",
    "\n",
    "Python's print function calls the main_input class's *write* method with no optional keywords specified.  For the curious, this is done by defining the  *__repr__* for the main_input class.  By using the write method directly, we can have finer-grained control over the output.  Specifically, we can:\n",
    "\n",
    "1.  Print a single namelist\n",
    "2.  Display nullstring values (e.g., benchmark_mode in the above example) using the verbose optional parameter.\n",
    "3.  Control the precision of floating-point output using the ndecimal optional parameter.\n",
    "4.  Write a new main_input file using the *file* optional parameter.\n",
    "\n",
    "This functionality is illustrated below, in combination with the set method, which is used to assign new namelist values.  Note that verbose does not impact values written to a new main_input file; nullstring values are ignored.  Examine the contents of *new_main_input* after running the cell below.  Nprow is omitted entirely, and aspect ratio has 2 digits after the decimal.  Anything from the original file is stored as a string, including numerical values, and remains unmodified."
   ]
  },
  {
   "cell_type": "code",
   "execution_count": null,
   "id": "04610223",
   "metadata": {},
   "outputs": [],
   "source": [
    "mi.write(namelist='problemsize')  # write only the problemsize namelist\n",
    "\n",
    "mi.set(nml='problemsize',var='nprow',val='') # set nprow to the null string\n",
    "mi.set(nml='problemsize',var='aspect_ratio',val=1/3) # set aspect ratio to a float\n",
    "\n",
    "#Omit null values\n",
    "print('\\n\\nDisplaying problemsize namelist without null values')\n",
    "mi.write(namelist='problemsize')\n",
    "\n",
    "#Include null values and use 3 decimal places (only affects floats)\n",
    "#Note that shell_depth is stored as a string, and so its precision remains unmodified\n",
    "print('\\n\\nDisplaying problemsize including null values and with 3 decimal places')\n",
    "mi.write(namelist='problemsize',verbose=True, ndecimal=3)\n",
    "\n",
    "\n",
    "# Attempting to assign a value to an undefined namelist variable\n",
    "# will generate an error\n",
    "mi.set(nml='problemsize',var='l_max',val=127)\n",
    "\n",
    "# If you are sure you didn't mispell the variable and want to add it, use \"force=True\"\n",
    "mi.set(nml='problemsize',var='l_max',val=127, force=True)\n",
    "mi.write(namelist='problemsize')\n",
    "\n",
    "#Finally, we can create a new main_input file using the write method\n",
    "mi.write(file='new_main_input', ndecimal=2) # write-to-file with 2 digits for float values"
   ]
  },
  {
   "cell_type": "markdown",
   "id": "3f0ad79a",
   "metadata": {},
   "source": [
    "## Namelist Values:  the *vals* dictionary\n",
    "\n",
    "Namelist variable names and values read from main_input are stored in the *vals* dictionary associated with the main_input class.  Their values can also be modified by manipulating this dictionary directly as shown below.  Note that when specifying a namelist name, the \"_namelist\" is omitted.    Using the set method is recommended, as it checks the validity of variable names.\n",
    "\n",
    "Note that all values read in from a main_input file are stored as strings.  This is why shell_depth was unaffected by value of ndecimal in the example above.  Keys in the *vals* dictionary may be assigned a numerical value.  When *print* is called, this value is converted to a string.  All floats are converted to scientific notation upon output (where to screen or to file).  The example below modifies the value of shell_depth such that it is stored as a float.\n",
    "\n",
    "\n",
    "**Important:** When working directly with the vals dictionary, use all lower case for the key names.  The set method is case agnostic."
   ]
  },
  {
   "cell_type": "code",
   "execution_count": null,
   "id": "e8580403",
   "metadata": {},
   "outputs": [],
   "source": [
    "sd = mi.vals['problemsize']['shell_depth']\n",
    "print('type(shell_depth) from main_input: ', type(sd))\n",
    "\n",
    "\n",
    "mi.vals['problemsize']['shell_depth'] = 2.0\n",
    "sd = mi.vals['problemsize']['shell_depth']\n",
    "print('type(shell_depth) from main_input: ', type(sd))\n",
    "\n",
    "#Now shell_depth will be displayed with the desired precision\n",
    "mi.write(namelist='problemsize', ndecimal=8)"
   ]
  },
  {
   "cell_type": "markdown",
   "id": "24e58c69",
   "metadata": {},
   "source": [
    "## The Read and Unset Methods\n",
    "\n",
    "After a main_input object is instantiated, we can subsequently modify its structure and values using the contents of another file via the *read* method.  We can also erase all values in the vals dictionary entirely, while maintaining the dictionary/file structure using the *unset* method.  The example below illustrates this functionality using jobinfo.txt.  That file is generated by Rayleigh at runtime, and it contains a list of all namelist variables and associated values.  Jobinfo.txt can be useful if you want to access a list of all available namelist variables within your Python routines."
   ]
  },
  {
   "cell_type": "code",
   "execution_count": null,
   "id": "10dfeeb7",
   "metadata": {},
   "outputs": [],
   "source": [
    "mi = main_input('jobinfo.txt')\n",
    "mi.unset()\n",
    "mi.read('main_input')\n",
    "mi.write(verbose=True)"
   ]
  },
  {
   "cell_type": "markdown",
   "id": "bb68f1d9",
   "metadata": {},
   "source": [
    "## Use Case:  Parameter Space Study \n",
    "\n",
    "\n",
    "Finally, we illustrate how to set up a small parameter-space study using the main_input class.  Typically, only a few values in main_input will change from model to model.  In particular, the list of outputs and initial conditions will likely remain unmodified.  First, let us specify set of physical parameters and simulation resolution sizes.  Note that the combination of supercriticality and resolution used here is for illustration purposes only.  These values are purposefully unrealistic. "
   ]
  },
  {
   "cell_type": "code",
   "execution_count": null,
   "id": "79f335f1",
   "metadata": {},
   "outputs": [],
   "source": [
    "import os\n",
    "ra_values = [1e1, 1e2]\n",
    "ek_values = [1e-3, 1e-4]\n",
    "ra_res_nr = [48, 96]\n",
    "ra_res_ntheta = [48, 96]\n",
    "\n",
    "base_dir = 'parameter_study'  # top-level directory within which each simulation directory will reside\n",
    "try:\n",
    "    os.mkdir(base_dir)\n",
    "except:\n",
    "    pass # avoid error message if directory exists"
   ]
  },
  {
   "cell_type": "markdown",
   "id": "16dc9e2a",
   "metadata": {},
   "source": [
    "Next, read in a main_input file that you wish to use as a template.   For this example, we will use the template provided with this notebook.   This particular file has benchmarking turned on.  Before proceeding, we turn benchmarking off and use a random thermal perturbations about a conductive background for the initial conditions instead."
   ]
  },
  {
   "cell_type": "code",
   "execution_count": null,
   "id": "12aec1fd",
   "metadata": {},
   "outputs": [],
   "source": [
    "mi = main_input('jobinfo.txt')\n",
    "mi.unset()\n",
    "mi.read('main_input')\n",
    "\n",
    "mi.vals['physical_controls']['benchmark_mode'] = \"\"\n",
    "mi.vals['physical_controls']['benchmark_integration_interval'] = \"\"\n",
    "mi.vals['physical_controls']['benchmark_report_interval'] = \"\"\n",
    "mi.vals['initial_conditions']['init_type'] = 7\n",
    "mi.vals['initial_conditions']['temp_amp'] = 0.001\n",
    "mi.vals['initial_conditions']['conductive_profile'] = '.true.'\n",
    "print('This is the main_input template: \\n\\n')\n",
    "print(mi)"
   ]
  },
  {
   "cell_type": "markdown",
   "id": "4c99ef5b",
   "metadata": {},
   "source": [
    "Finally, we generate input files for our small parameter-space study.  Examine the contents of parameter_study/model_X/main_input to verify the changes."
   ]
  },
  {
   "cell_type": "code",
   "execution_count": null,
   "id": "440ef9fd",
   "metadata": {},
   "outputs": [],
   "source": [
    "mnum = 1\n",
    "for i, ra in enumerate(ra_values):\n",
    "    for ek in ek_values:\n",
    "        ra_str = 'Ra_'+\"{:.2e}\".format(ra)\n",
    "        ek_str = 'Ek_'+\"{:.2e}\".format(ek)\n",
    "        sim_name = 'model '+str(mnum)\n",
    "        sim_dir =  base_dir+'/model_'+str(mnum)\n",
    "        print(sim_name,':','Ra =',ra_str, ',', 'Ek =', ek_str)\n",
    "        \n",
    "        try:\n",
    "            os.mkdir(sim_dir)\n",
    "        except:\n",
    "            pass\n",
    "\n",
    "        input_file = sim_dir+'/main_input'\n",
    "        mi.vals['problemsize']['n_r'] = ra_res_nr[i]\n",
    "        mi.vals['problemsize']['n_theta'] = ra_res_ntheta[i]\n",
    "        mi.vals['reference']['rayleigh_number'] = ra\n",
    "        mi.vals['reference']['ekman_number'] = ek\n",
    "        mi.write(file=input_file)\n",
    "        mnum+=1"
   ]
  },
  {
   "cell_type": "code",
   "execution_count": null,
   "id": "5957dabe",
   "metadata": {},
   "outputs": [],
   "source": []
  }
 ],
 "metadata": {
  "kernelspec": {
   "display_name": "Python 3 (ipykernel)",
   "language": "python",
   "name": "python3"
  },
  "language_info": {
   "codemirror_mode": {
    "name": "ipython",
    "version": 3
   },
   "file_extension": ".py",
   "mimetype": "text/x-python",
   "name": "python",
   "nbconvert_exporter": "python",
   "pygments_lexer": "ipython3",
   "version": "3.9.6"
  }
 },
 "nbformat": 4,
 "nbformat_minor": 5
}
