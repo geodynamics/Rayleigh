{
 "cells": [
  {
   "cell_type": "markdown",
   "id": "997fb54f",
   "metadata": {},
   "source": [
    "# Post-processing Spectral Operations\n",
    "\n",
    "In a post-processing task, computing derivatives is a common operation. Rayleigh computes derivatives using spectral transforms and recursion relations. This notebook describes a python\n",
    "module that allows the computation of various spectral transforms and derivatives (*spectral_utils.py*).\n",
    "\n",
    "This notebook assumes that you are familiar with running Rayleigh and comfortable with manipulating the various types of diagnostic outputs using the provided python tools.\n",
    "\n",
    "Contents:\n",
    "+        Generate the data for this tutorial\n",
    "+       Extracting the data\n",
    "+      Using the 4 main python classes\n",
    " 1.       Fourier\n",
    " 2.       Legendre\n",
    " 3.       Chebyshev\n",
    " 4.       SHT\n",
    "+       Important notes and restrictions\n",
    "\n",
    "================================================================================================\n",
    "\n",
    "\n",
    "# I. Generate the Data\n",
    "\n",
    "To fully understand this notebook, a particular model setup with specific outputs must be generated. Start by copying the *c2001_case0_minimal* input example (Boussinesq hydro benchmark) into a working directory and then rename it *main_input*.\n",
    "\n",
    "There are three main changes that need to be made:\n",
    "\n",
    " 1. The radial grid\n",
    " 2. The output quantities\n",
    " 3. The number of iterations to use\n"
   ]
  },
  {
   "cell_type": "markdown",
   "id": "2cae7b27",
   "metadata": {},
   "source": [
    "## Change the radial grid\n",
    "The first modification will be in the problemsize namelist. In the *main_input* file change the *problemsize_namelist* to be:\n",
    "```\n",
    "&problemsize_namelist\n",
    " l_max = 63\n",
    " domain_bounds = 0.53846153846153832d0, 1.04d0, 1.34d0, 1.5384615384615383d0\n",
    " ncheby = 26,20,18\n",
    " dealias_by = 2,1,0\n",
    "/\n",
    "```\n",
    "This will build a radial domain composed of three sub-domains, each with a different resolution. The boundaries of the sub domains are explicitly set and the resulting domain should have an aspect ratio of 0.35 and a shell depth of 1.0, consistent with the chosen benchmark mode.\n",
    "\n",
    "These choices represent the most general radial grid setup in order to showcase the python interface. Examples of radial grid setups that are more commonly used will be discussed below, but not explicitly executed."
   ]
  },
  {
   "cell_type": "markdown",
   "id": "38b0c2f1",
   "metadata": {},
   "source": [
    "## Add some output quantities\n",
    "The next modification will be to add specific output quantities. In the same *main_input* file change the *output_namelist* to be:\n",
    "```\n",
    "&output_namelist\n",
    " shellavg_values = 1,2,3,10,19,28,11,20,29,12,21,30,501,507,513,519\n",
    " shellavg_frequency = 10\n",
    " shellavg_nrec = 10\n",
    "\n",
    " shellslice_values = 1,2,3,10,19,28,11,20,29,12,21,30,501,507,513,519\n",
    " shellslice_frequency = 10\n",
    " shellslice_nrec = 10\n",
    " shellslice_levels_nrm = 0.5, 0.67, 0.8, 0.9\n",
    "\n",
    " shellspectra_values = 1,2,3,10,19,28,11,20,29,12,21,30,501,507,513,519\n",
    " shellspectra_frequency = 10\n",
    " shellspectra_nrec = 10\n",
    " shellspectra_levels_nrm = 0.5, 0.67, 0.8, 0.9\n",
    "\n",
    " azavg_values = 1,2,3,10,19,28,11,20,29,12,21,30,501,507,513,519\n",
    " azavg_frequency = 10\n",
    " azavg_nrec = 10\n",
    "/\n",
    "```\n",
    "The added quantities correspond to:\n",
    "\n",
    "| Quantity Code | Description |\n",
    "|-------------- | ------------|\n",
    "| 1             | $v_r$ |\n",
    "| 2             | $v_\\theta$ |\n",
    "| 3             | $v_\\phi$ |\n",
    "| 10            | $\\frac{\\partial v_r}{\\partial r}$ |\n",
    "| 19            | $\\frac{\\partial v_r}{\\partial \\theta}$ |\n",
    "| 28            | $\\frac{\\partial v_r}{\\partial \\phi}$ |\n",
    "| 11            | $\\frac{\\partial v_\\theta}{\\partial r}$ |\n",
    "| 20            | $\\frac{\\partial v_\\theta}{\\partial \\theta}$ |\n",
    "| 29            | $\\frac{\\partial v_\\theta}{\\partial \\phi}$ |\n",
    "| 12            | $\\frac{\\partial v_\\phi}{\\partial r}$ |\n",
    "| 21            | $\\frac{\\partial v_\\phi}{\\partial \\theta}$ |\n",
    "| 30            | $\\frac{\\partial v_\\phi}{\\partial \\phi}$ |\n",
    "| 501           | $\\Theta$ |\n",
    "| 507           | $\\frac{\\partial\\Theta}{\\partial r}$ |\n",
    "| 513           | $\\frac{\\partial\\Theta}{\\partial \\theta}$ |\n",
    "| 519           | $\\frac{\\partial\\Theta}{\\partial \\phi}$ |\n",
    "\n",
    "The last change is to adjust the *max_iterations*. The final *main_input* file should look like this:\n",
    "```\n",
    "&problemsize_namelist\n",
    " l_max = 63\n",
    " domain_bounds = 0.53846153846153832d0, 1.04d0, 1.34d0, 1.5384615384615383d0\n",
    " ncheby = 26,20,18\n",
    " dealias_by = 2,1,0\n",
    "/\n",
    "&numerical_controls_namelist\n",
    "/\n",
    "&physical_controls_namelist\n",
    " benchmark_mode = 1\n",
    " benchmark_integration_interval = 100\n",
    " benchmark_report_interval = 500\n",
    "/\n",
    "&temporal_controls_namelist\n",
    " max_iterations = 300\n",
    " checkpoint_interval = 100000\n",
    " quicksave_interval = 10000\n",
    " num_quicksaves = 2\n",
    "/\n",
    "&io_controls_namelist\n",
    "/\n",
    "&output_namelist\n",
    " shellavg_values = 1,2,3,10,19,28,11,20,29,12,21,30,501,507,513,519\n",
    " shellavg_frequency = 10\n",
    " shellavg_nrec = 50\n",
    "\n",
    " shellslice_values = 1,2,3,10,19,28,11,20,29,12,21,30,501,507,513,519\n",
    " shellslice_frequency = 10\n",
    " shellslice_nrec = 50\n",
    " shellslice_levels_nrm = 0.5, 0.67, 0.8, 0.9\n",
    "\n",
    " shellspectra_values = 1,2,3,10,19,28,11,20,29,12,21,30,501,507,513,519\n",
    " shellspectra_frequency = 10\n",
    " shellspectra_nrec = 50\n",
    " shellspectra_levels_nrm = 0.5, 0.67, 0.8, 0.9\n",
    "\n",
    " azavg_values = 1,2,3,10,19,28,11,20,29,12,21,30,501,507,513,519\n",
    " azavg_frequency = 10\n",
    " azavg_nrec = 50\n",
    "/\n",
    "\n",
    "&Boundary_Conditions_Namelist\n",
    "/\n",
    "&Initial_Conditions_Namelist\n",
    "/\n",
    "&Test_Namelist\n",
    "/\n",
    "&Reference_Namelist\n",
    "/\n",
    "&Transport_Namelist\n",
    "/\n",
    "```"
   ]
  },
  {
   "cell_type": "markdown",
   "id": "8b08570b",
   "metadata": {},
   "source": [
    "## Run Rayleigh to generate the code\n",
    "Now that the *main_input* file has been properly configured, it is time to run Rayleigh and generate some data. The purpose of this notebook is to showcase the python interface of the *spectral_utils.py* module, the benchmark does not need to run to completion.\n",
    "\n",
    "If the *max_iterations* value is changed, be sure to change the *_frequency* and *_nrec* variables in each output quantity accordingly.\n",
    "\n",
    "Using the *main_input* file as configured above (benchmark mode turned on), the code will run to completion in about 45 seconds using only 16 cores (about 6-7 iter/sec)."
   ]
  },
  {
   "cell_type": "markdown",
   "id": "d87e2ff6",
   "metadata": {},
   "source": [
    "# II. Extracting the Data\n",
    "After generating the data, it must be read into python. You must ensure that the *rayleigh_diagnostics.py* file can be imported into python: either adjust your PYTHONPATH or copy the *rayleigh_diagnostics.py* file into your working directory.\n",
    "\n",
    "The *spectral_utils.py* file will also be needed (it lives in the same directory as *rayleigh_diagnostics*.py), set your PYTHONPATH or copy this file to the working directory as well.\n",
    "\n",
    "We will be reading AZ_Avgs, Shell_Avgs, Shell_Spectra, and Shell_Slices data."
   ]
  },
  {
   "cell_type": "code",
   "execution_count": null,
   "id": "1d0a57c2",
   "metadata": {},
   "outputs": [],
   "source": [
    "%matplotlib inline\n",
    "from rayleigh_diagnostics import Shell_Avgs, AZ_Avgs, Shell_Slices, Shell_Spectra\n",
    "import spectral_utils as SU\n",
    "import matplotlib.pyplot as plt\n",
    "import numpy as np\n",
    "import os"
   ]
  },
  {
   "cell_type": "markdown",
   "id": "e7c55a07",
   "metadata": {},
   "source": [
    "Define a helper routine to report errors between two arrays"
   ]
  },
  {
   "cell_type": "code",
   "execution_count": null,
   "id": "5f48e934",
   "metadata": {},
   "outputs": [],
   "source": [
    "def report_error(x, y, title):\n",
    "    error = np.abs(x - y)\n",
    "    #print(\"{} maximum error = {}\".format(title, np.max(error)))\n",
    "    #print(\"{} average error = {}\".format(title, np.mean(error)))\n",
    "    print(\"{} median error = {}\".format(title, np.median(error)))"
   ]
  },
  {
   "cell_type": "markdown",
   "id": "cc4ab00f",
   "metadata": {},
   "source": [
    "If modifications were made to *max_iterations*, the *_frequency* values, or the *_nrec* values, then the following paths to the output files will need to be changed for your particular case. Be sure the *data_dir* value is changed accordingly."
   ]
  },
  {
   "cell_type": "code",
   "execution_count": null,
   "id": "67c4f1b7",
   "metadata": {},
   "outputs": [],
   "source": [
    "data_dir = \"/home/orvedahl/cueball/Rayleigh-Runs/Testing/Spectral-Operations/\"\n",
    "\n",
    "shavg_itr  = \"00000500\"\n",
    "azavg_itr  = \"00000500\"\n",
    "shslc_itr  = \"00000500\"\n",
    "shspec_itr = \"00000500\"\n",
    "\n",
    "shavg  = Shell_Avgs(   os.path.join(data_dir, \"Shell_Avgs\",    shavg_itr),  path='')\n",
    "azavg  = AZ_Avgs(      os.path.join(data_dir, \"AZ_Avgs\",       azavg_itr),  path='')\n",
    "shslc  = Shell_Slices( os.path.join(data_dir, \"Shell_Slices\",  shslc_itr),  path='')\n",
    "shspec = Shell_Spectra(os.path.join(data_dir, \"Shell_Spectra\", shspec_itr), path='')"
   ]
  },
  {
   "cell_type": "code",
   "execution_count": null,
   "id": "a5dc3650",
   "metadata": {},
   "outputs": [],
   "source": [
    "inds     = [1,  2, 3,501] # useful values for interfacing with the lookup table\n",
    "dr_inds  = [10,11,12,507]\n",
    "dth_inds = [19,20,21,513]\n",
    "dp_inds  = [28,29,30,519]\n",
    "\n",
    "nth = shslc.ntheta\n",
    "nphi = shslc.nphi\n",
    "\n",
    "radius = azavg.radius             # extract/build the Rayleigh grids\n",
    "theta = np.arccos(shslc.costheta)\n",
    "dphi = 2*np.pi/nphi\n",
    "phi = dphi*np.arange(nphi)\n",
    "\n",
    "# Shell Slice data\n",
    "q_slc    = shslc.vals[:,:,:,shslc.lut[    inds],:] # shape (nphi,nth,nradii,3,ntime)\n",
    "dqdt_slc = shslc.vals[:,:,:,shslc.lut[dth_inds],:]\n",
    "dqdp_slc = shslc.vals[:,:,:,shslc.lut[ dp_inds],:]\n",
    "\n",
    "# Shell Avgs data\n",
    "q_shavg    = shavg.vals[:,0,shavg.lut[    inds],:] # shape (nr,3,nt)\n",
    "dqdr_shavg = shavg.vals[:,0,shavg.lut[ dr_inds],:]\n",
    "\n",
    "# Az Avgs data\n",
    "q_az    = azavg.vals[:,:,azavg.lut[    inds],:] # shape (nth,nr,3,nt)\n",
    "dqdr_az = azavg.vals[:,:,azavg.lut[ dr_inds],:]\n",
    "dqdt_az = azavg.vals[:,:,azavg.lut[dth_inds],:]\n",
    "\n",
    "# Shell Spectra data\n",
    "q_sp    = shspec.vals[:,:,:,shspec.lut[    inds],:] # shape (l,m,nr,3,nt)\n",
    "dqdt_sp = shspec.vals[:,:,:,shspec.lut[dth_inds],:]\n",
    "dqdp_sp = shspec.vals[:,:,:,shspec.lut[ dp_inds],:]"
   ]
  },
  {
   "cell_type": "markdown",
   "id": "78395c7a",
   "metadata": {},
   "source": [
    "# III. Using the Spectral Objects\n",
    "The *spectral_utils.py* file contains 4 classes:\n",
    "\n",
    "1. *Fourier*\n",
    "2. *Legendre*\n",
    "3. *Chebyshev*\n",
    "4. *SHT*\n",
    "\n",
    "Each will be explored in turn.\n",
    "\n",
    "## 1) Fourier\n",
    "The *Fourier* class is designed to compute Fourier transforms of Rayleigh data. It also provides a method to compute derivatives with respect to phi/longitude.\n",
    "\n",
    "It is initialized by supplying the resolution in the phi direction"
   ]
  },
  {
   "cell_type": "code",
   "execution_count": null,
   "id": "a27f19e9",
   "metadata": {},
   "outputs": [],
   "source": [
    "F = SU.Fourier(nphi)"
   ]
  },
  {
   "cell_type": "markdown",
   "id": "13dc8331",
   "metadata": {},
   "source": [
    "Use the *Fourier* object to compute the derivative. The *d_dphi* method can compute the derivative of data that is already in spectral space: the *physical=True* argument specifies that the data is in physical space (the default)."
   ]
  },
  {
   "cell_type": "code",
   "execution_count": null,
   "id": "b302a6aa",
   "metadata": {},
   "outputs": [],
   "source": [
    "phi_deriv = F.d_dphi(q_slc, axis=0, physical=True)\n",
    "\n",
    "report_error(phi_deriv, dqdp_slc, \"d/dphi\")"
   ]
  },
  {
   "cell_type": "markdown",
   "id": "b80ef47c",
   "metadata": {},
   "source": [
    "Compare this error to a 6th order finite difference method, available in the *spectral_utils.py* module."
   ]
  },
  {
   "cell_type": "code",
   "execution_count": null,
   "id": "2227082a",
   "metadata": {},
   "outputs": [],
   "source": [
    "dqdx = SU.ddx(q_slc, phi, axis=0)\n",
    "\n",
    "report_error(dqdp_slc, dqdx, \"6th FD\")"
   ]
  },
  {
   "cell_type": "markdown",
   "id": "0a2229b3",
   "metadata": {},
   "source": [
    "The *Fourier* class can also compute forward and inverse Fourier transforms"
   ]
  },
  {
   "cell_type": "code",
   "execution_count": null,
   "id": "57b94791",
   "metadata": {},
   "outputs": [],
   "source": [
    "hybrid = F.to_spectral(q_slc, axis=0) # output will have shape (nfreq,nth,nradii,3,ntime)\n",
    "\n",
    "phys = F.to_physical(hybrid, axis=0)\n",
    "\n",
    "report_error(q_slc, phys, \"\")"
   ]
  },
  {
   "cell_type": "markdown",
   "id": "1b83c0d6",
   "metadata": {},
   "source": [
    "## 2) Legendre\n",
    "The *Legendre* class is designed to compute Legendre transforms of Rayleigh data. It also provides a method to compute derivatives with respect to theta/co-latitude.\n",
    "\n",
    "It is initialized by supplying the resolution in the theta direction"
   ]
  },
  {
   "cell_type": "code",
   "execution_count": null,
   "id": "ed52ebf0",
   "metadata": {},
   "outputs": [],
   "source": [
    "L = SU.Legendre(nth)"
   ]
  },
  {
   "cell_type": "markdown",
   "id": "24a34036",
   "metadata": {},
   "source": [
    "Use the *Legendre* object to compute the derivative. The *d_dtheta* method can compute the derivative of data that is already in spectral space: the *physical=True* argument specifies that the data is in physical space (the default)."
   ]
  },
  {
   "cell_type": "code",
   "execution_count": null,
   "id": "f8c935b0",
   "metadata": {},
   "outputs": [],
   "source": [
    "th_deriv = L.d_dtheta(q_slc, axis=1)\n",
    "\n",
    "report_error(th_deriv, dqdt_slc, \"d/dth\")"
   ]
  },
  {
   "cell_type": "markdown",
   "id": "915e6b60",
   "metadata": {},
   "source": [
    "Compare this to the 6th order finite difference method, which supports nonuniform grids"
   ]
  },
  {
   "cell_type": "code",
   "execution_count": null,
   "id": "9a92fb6a",
   "metadata": {},
   "outputs": [],
   "source": [
    "dqdx = SU.ddx(q_slc, theta, axis=1)\n",
    "\n",
    "report_error(dqdt_slc, dqdx, \"6th FD\")"
   ]
  },
  {
   "cell_type": "markdown",
   "id": "1398e9c4",
   "metadata": {},
   "source": [
    "The *Legendre* class can also compute forward and inverse Legendre transforms"
   ]
  },
  {
   "cell_type": "code",
   "execution_count": null,
   "id": "956e781b",
   "metadata": {},
   "outputs": [],
   "source": [
    "hybrid = L.to_spectral(q_slc, axis=1)\n",
    "\n",
    "phys = L.to_physical(hybrid, axis=1)\n",
    "\n",
    "report_error(q_slc, phys, \"\")"
   ]
  },
  {
   "cell_type": "markdown",
   "id": "404e1073",
   "metadata": {},
   "source": [
    "The derivative can also be computed from spectral space, just be sure to tell the derivative routine that the data is in spectral space."
   ]
  },
  {
   "cell_type": "code",
   "execution_count": null,
   "id": "846c721c",
   "metadata": {},
   "outputs": [],
   "source": [
    "hybrid = L.to_spectral(q_az, axis=0) # transform the AZ_Avgs data\n",
    "\n",
    "th_deriv_hybrid = L.d_dtheta(hybrid, axis=0, physical=False)\n",
    "\n",
    "th_deriv = L.to_physical(th_deriv_hybrid, axis=0) # transform back to physical space to compute error\n",
    "\n",
    "report_error(th_deriv, dqdt_az, \"d/dth\")"
   ]
  },
  {
   "cell_type": "markdown",
   "id": "7c793b2d",
   "metadata": {},
   "source": [
    "# Quick Note on Expected Accuracy\n",
    "All of the classes within the *spectral_utils.py* module rely on expanding the input data into a series of basis functions. There are some functions that do not behave well when written as a truncated expansion. Typically, this class of function requires power in all modes of the expansion, up to and including the maximum degree in the truncation. This fact usually leads to underresolved features and a poor final result.\n",
    "\n",
    "As an example, below is a small scaling test to compute the derivative of two simple functions using the *Legendre* class. The two functions are $F_1 = \\frac{1}{\\cos\\theta}$ and $F_2 = \\sin\\theta$. The median error on the grid is reported along with the 6th order finite difference error."
   ]
  },
  {
   "cell_type": "code",
   "execution_count": null,
   "id": "32672777",
   "metadata": {},
   "outputs": [],
   "source": [
    "print(\"\\n\\t\\t\\tMedian absolute error\\n\")\n",
    "print(\"Nth\\tL.d_dtheta F1\\tL.d_dtheta F2\\t6th FD F1\\t6th FD F2\")\n",
    "print(\"-\"*70)\n",
    "for n in [16,32,64,128,256,512]:\n",
    "    Ltmp = SU.Legendre(n)\n",
    "    th = Ltmp.theta\n",
    "\n",
    "    # first function = 1/cos(th)\n",
    "    F1 = 1./np.cos(th)\n",
    "    dF1dth_true = np.sin(th)/np.cos(th)**2\n",
    "    dF1dth = Ltmp.d_dtheta(F1)\n",
    "    dF1dthFD = SU.ddx(F1, th)\n",
    "\n",
    "    err1 = np.median(np.abs(dF1dth - dF1dth_true))\n",
    "    err1FD = np.median(np.abs(dF1dthFD - dF1dth_true))\n",
    "    \n",
    "    # second function = sin(th)\n",
    "    F2 = np.sin(th)\n",
    "    dF2dth_true = np.cos(th)\n",
    "    dF2dth = Ltmp.d_dtheta(F2)\n",
    "    dF2dthFD = SU.ddx(F2, th)\n",
    "    \n",
    "    err2 = np.median(np.abs(dF2dth - dF2dth_true))\n",
    "    err2FD = np.median(np.abs(dF2dthFD - dF2dth_true))\n",
    "    \n",
    "    # report the errors\n",
    "    print(\"{}\\t{:.6f}\\t{:.6f}\\t{:.6e}\\t{:.6e}\".format(n, err1, err2, err1FD, err2FD))"
   ]
  },
  {
   "cell_type": "markdown",
   "id": "51d869c2",
   "metadata": {},
   "source": [
    "## 3) Chebyshev\n",
    "The *Chebyshev* class is designed to compute Chebyshev transforms of Rayleigh data. It also provides a method to compute derivatives with respect to radius.\n",
    "\n",
    "The most basic radial grid is defined by global domain bounds and a single resolution. For example, a domain using 72 grid points with a lower bound of 0.5 and an upper bound of 2.5, can be built in one of three ways:\n",
    "```\n",
    "    C_1 = SU.Chebyshev(72, rmin=0.5, rmax=2.5)\n",
    "\n",
    "    C_2 = SU.Chebyshev(72, aspect_ratio=0.2, shell_depth=2)\n",
    "\n",
    "    C_3 = SU.Chebyshev(72, boundaries=(0.5,2.5))\n",
    "```\n",
    "All three options will produce identical grids.\n",
    "\n",
    "To build the above domain using 3 uniformly spaced subdomains:\n",
    "```\n",
    "    C_uniform = SU.Chebyshev(24, rmin=0.5, rmax=2.5, n_uniform_domains=3)\n",
    "```\n",
    "In the above example, the resolution refers to the resolution within each subdomain, giving the total grid 72 points, just as before.\n",
    "\n",
    "The most general way to build the radial grid is to define the internal boundaries, the resolution within each subdomain, and if desired, change the amount of dealiasing. This was done in our input file at the start of this tutorial. In this case, the resolution is specified as a tuple or list of the resolution within each subdomain. The boundaries are supplied as a tuple or list with N+1 entries, given N resolutions. The first and last elements of the boundaries entry provide the global domain bounds. To build the *Chebyshev* object, prior knowledge of the radial grid is required. For our input example defined above:"
   ]
  },
  {
   "cell_type": "code",
   "execution_count": null,
   "id": "1e2ac66f",
   "metadata": {},
   "outputs": [],
   "source": [
    "bounds = (0.53846153846153832, 1.04, 1.34, 1.5384615384615383)\n",
    "C = SU.Chebyshev((26,20,18), dealias=(2,1,0), boundaries=bounds)"
   ]
  },
  {
   "cell_type": "markdown",
   "id": "6cfd63ce",
   "metadata": {},
   "source": [
    "Use the *Chebyshev* object to compute the derivative. The *d_dr* method can compute the derivative of data that is already in spectral space: the *physical=True* argument specifies that the data is in physical space (the default)."
   ]
  },
  {
   "cell_type": "code",
   "execution_count": null,
   "id": "b607ac7f",
   "metadata": {},
   "outputs": [],
   "source": [
    "r_deriv = C.d_dr(q_az, axis=1)\n",
    "\n",
    "report_error(r_deriv, dqdr_az, \"d/dr\")"
   ]
  },
  {
   "cell_type": "markdown",
   "id": "c2eeeeba",
   "metadata": {},
   "source": [
    "Compare this to the 6th order finite difference method, which allows nonuniform grids. The radial grid in Rayleigh involves duplicate values when subdomains are used. This means a modified 6th order finite difference method must be used, which requires an extra argument that provides the indices of the repeated grid points. The index information is computed and stored in the *Chebyshev* object."
   ]
  },
  {
   "cell_type": "code",
   "execution_count": null,
   "id": "9ec9cd58",
   "metadata": {},
   "outputs": [],
   "source": [
    "dqdx = SU.ddx_repeated_gridpoints(q_az, radius, C.boundary_indices, axis=1)\n",
    "\n",
    "report_error(dqdr_az, dqdx, \"6th FD\")"
   ]
  },
  {
   "cell_type": "markdown",
   "id": "0be51d53",
   "metadata": {},
   "source": [
    "The *Chebyshev* class can also compute forward and inverse Chebyshev transforms"
   ]
  },
  {
   "cell_type": "code",
   "execution_count": null,
   "id": "39777dec",
   "metadata": {},
   "outputs": [],
   "source": [
    "hybrid = C.to_spectral(q_shavg, axis=0)\n",
    "\n",
    "phys = C.to_physical(hybrid, axis=0)\n",
    "\n",
    "report_error(q_shavg, phys, \"\")"
   ]
  },
  {
   "cell_type": "markdown",
   "id": "5b0d9f0b",
   "metadata": {},
   "source": [
    "The derivative routine accepts incoming data in spectral space, just use the *physical=False* keyword."
   ]
  },
  {
   "cell_type": "code",
   "execution_count": null,
   "id": "f3fc27ec",
   "metadata": {},
   "outputs": [],
   "source": [
    "r_deriv = C.d_dr(hybrid, axis=0, physical=False)\n",
    "\n",
    "r_deriv = C.to_physical(r_deriv, axis=0) # transform back to physical to compute error\n",
    "\n",
    "report_error(r_deriv, dqdr_shavg, \"d/dr\")"
   ]
  },
  {
   "cell_type": "markdown",
   "id": "c622cf40",
   "metadata": {},
   "source": [
    "## 4) SHT\n",
    "The *SHT* class will perform full spherical harmonic transforms. It is initialized by specifying the resolution in the theta direction. There are two ways to do this: use the physical space resolution or the spectral space resolution.\n",
    "```\n",
    "    S_1 = SU.SHT(n_theta)\n",
    "    \n",
    "    S_2 = SU.SHT(l_max, spectral=True)\n",
    "```\n",
    "The default behavior is to treat the first argument as the physical space resolution."
   ]
  },
  {
   "cell_type": "code",
   "execution_count": null,
   "id": "b34aa532",
   "metadata": {},
   "outputs": [],
   "source": [
    "S = SU.SHT(nth)"
   ]
  },
  {
   "cell_type": "markdown",
   "id": "e7539965",
   "metadata": {},
   "source": [
    "The *SHT* object offers a full SHT transform to spectral space"
   ]
  },
  {
   "cell_type": "code",
   "execution_count": null,
   "id": "ce54b323",
   "metadata": {},
   "outputs": [],
   "source": [
    "spec = S.to_spectral(q_slc, th_l_axis=1, phi_m_axis=0) # output will be (nm,nl,nr,3,nt)\n",
    "spec = np.swapaxes(spec, 0, 1)                         # but Spectra are (nl,nm,nr,3,nt)\n",
    "\n",
    "report_error(q_sp, spec, \"SHT\")"
   ]
  },
  {
   "cell_type": "markdown",
   "id": "42578602",
   "metadata": {},
   "source": [
    "and a full SHT transfrom to physical space"
   ]
  },
  {
   "cell_type": "code",
   "execution_count": null,
   "id": "41416869",
   "metadata": {},
   "outputs": [],
   "source": [
    "phys = S.to_physical(q_sp, th_l_axis=0, phi_m_axis=1) # output will be (nth,nphi,nr,3,nt)\n",
    "phys = np.swapaxes(phys, 0, 1)                        # but Slices are (nphi,nth,nr,3,nt)\n",
    "\n",
    "report_error(q_slc, phys, \"iSHT\")"
   ]
  },
  {
   "cell_type": "markdown",
   "id": "73556adb",
   "metadata": {},
   "source": [
    "There is also the ability to compute derivatives with respect to phi, but only from within spectral space"
   ]
  },
  {
   "cell_type": "code",
   "execution_count": null,
   "id": "46c4783e",
   "metadata": {},
   "outputs": [],
   "source": [
    "dp_deriv = S.d_dphi(q_sp, m_axis=1)\n",
    "\n",
    "report_error(dqdp_sp, dp_deriv, \"SHT d/dphi\")"
   ]
  },
  {
   "cell_type": "markdown",
   "id": "31b1307f",
   "metadata": {},
   "source": [
    "Derivatives with respect to theta are computed as $\\sin\\theta\\frac{\\partial F}{\\partial\\theta}$ from within spectral space."
   ]
  },
  {
   "cell_type": "code",
   "execution_count": null,
   "id": "2d79fbfa",
   "metadata": {},
   "outputs": [],
   "source": [
    "shp = [1]*len(dqdt_slc.shape) # build sin(th)*dq/dth from Shell Slices\n",
    "shp[1] = -1\n",
    "sinth = np.reshape(shslc.sintheta, tuple(shp)) # sinth is now same shape as Shell Slice data\n",
    "s_dqdt_slc = sinth*dqdt_slc\n",
    "\n",
    "s_dqdt_sp = S.to_spectral(s_dqdt_slc, th_l_axis=1, phi_m_axis=0) # transform to spectral\n",
    "s_dqdt_sp = np.swapaxes(s_dqdt_sp, 0, 1)                         # and ensure shapes are same\n",
    "\n",
    "# Note: the above computation is only needed to compute the error below\n",
    "\n",
    "s_deriv = S.sin_d_dtheta(q_sp, l_axis=0, m_axis=1) # compute sin(th)*dq/dth in spectral space\n",
    "\n",
    "\n",
    "report_error(s_dqdt_sp, s_deriv, \"SHT sin(th) d/dth\")"
   ]
  }
 ],
 "metadata": {
  "kernelspec": {
   "display_name": "Python 3",
   "language": "python",
   "name": "python3"
  },
  "language_info": {
   "codemirror_mode": {
    "name": "ipython",
    "version": 3
   },
   "file_extension": ".py",
   "mimetype": "text/x-python",
   "name": "python",
   "nbconvert_exporter": "python",
   "pygments_lexer": "ipython3",
   "version": "3.9.4"
  }
 },
 "nbformat": 4,
 "nbformat_minor": 5
}
