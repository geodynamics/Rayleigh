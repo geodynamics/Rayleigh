{
 "cells": [
  {
   "cell_type": "markdown",
   "metadata": {},
   "source": [
    "# Rayleigh output -> VAPoR input Converter\n",
    "\n",
    "## Setup\n",
    "\n",
    "You must set these variables for this notebook to run properly.\n",
    "\n",
    "- **vapor_version**: Version of Vapor to export for. Must be 2 or 3.\n",
    "- **vbin**: Locations of `bin` directories for vapor 2 and vapor 3.\n",
    "- **run_dir**: Directory the simulation was run in. Must end in '/'.\n",
    "- **data_dir**: Location of Rayleigh's 3D output. Should usually be 'Spherical_3D/'\n",
    "- **grid_file**: The grid to interpolate from. Usually in the data directory. All interpolated variables must use the same grid.\n",
    "- **vapor_file**: Name of vapor output data file. Omit the file type (it will be added automatically).\n",
    "- **cube_size_n**: Size of cartesian grid to interpolate onto. Give the number of grid points on a side.\n",
    "- **rayleigh_bin**: Location of the `bin` subdirectory in the Rayleigh repo. `interp3d` must be in this directory.\n",
    "- **temp_dir**: Optional location for temporary files. The directory must already exist. It is not created automatically.\n",
    "- **diter**: The number of iterations between files to convert. Does not have to match the original output frequency.\n",
    "- **first/last_iter**: The range of iterations to convert.\n",
    "- **overwrite**: Whether it should overwrite files from previous runs."
   ]
  },
  {
   "cell_type": "code",
   "execution_count": 5,
   "metadata": {},
   "outputs": [],
   "source": [
    "vapor_version=3\n",
    "if (vapor_version == 3):\n",
    "    vbin='/custom/software/VAPOR3-3.2.0-Linux/bin'\n",
    "    # FOR MAC, it will be something like: vroot=`/Applications/vapor.app/Contents/MacOS`\n",
    "else:\n",
    "    vbin='/custom/software/vapor-2.6.0.RC0/bin'\n",
    "\n",
    "run_dir = \"./\"\n",
    "data_dir = 'Spherical_3D'\n",
    "    \n",
    "grid_file = run_dir + data_dir + '000000_grid'\n",
    "\n",
    "vapor_file = run_dir+'vapor_input'\n",
    "\n",
    "cube_size_N=256\n",
    "\n",
    "rayleigh_root='/YOUR/RAYLEIGH/FORK/HERE/bin'\n",
    "\n",
    "tempdir='.'\n",
    "\n",
    "diter = 10\n",
    "first_iter = 0\n",
    "last_iter  = 10\n",
    "\n",
    "overwrite = True"
   ]
  },
  {
   "cell_type": "markdown",
   "metadata": {},
   "source": [
    "## Scalar Quantities\n",
    "\n",
    "This defines the scalars quantities to convert.\n",
    "\n",
    "- **Key**: name of the variable as it should appear in VAPoR\n",
    "- **code**: quantity code used by Rayleigh\n",
    "- **rm_spherical_mean**: whether to subtract the mean from the data. Useful when the deviation is small relative to the mean. Defaults to `False`.\n",
    "- **radius_limits**: (lower bound, upper bound). Points outside these bounds will be set to zero. Defaults to `(None, None)`."
   ]
  },
  {
   "cell_type": "code",
   "execution_count": 7,
   "metadata": {},
   "outputs": [],
   "source": [
    "scalars = {\n",
    "    \"temp\": {\n",
    "        \"code\": 501,\n",
    "        \"rm_spherical_mean\": True,\n",
    "        \"radius_limits\": (None, None)\n",
    "    },\n",
    "    \"vphi\": {\n",
    "        \"code\": 3,\n",
    "        \"radius_limits\": (None, None)\n",
    "    }\n",
    "}"
   ]
  },
  {
   "cell_type": "markdown",
   "metadata": {},
   "source": [
    "## Vector Quantities\n",
    "\n",
    "This defines the vector quantities to convert.\n",
    "\n",
    "- **key**: tuple of strings. Names of the x, y, and z components as they should appear in VAPoR. Optional fourth name for the magnitude of the vector.\n",
    "- **value**: tuple of quantity codes, for the x, y, and z components of the vector. Must have exactly three components, even if outputing the magnitude."
   ]
  },
  {
   "cell_type": "code",
   "execution_count": null,
   "metadata": {},
   "outputs": [],
   "source": [
    "vectors = {\n",
    "    (\"vx\", \"vy\", \"vz\"): (1, 2, 3),\n",
    "    (\"wx\", \"wy\", \"wz\", \"wmag\"): (301, 302, 303)\n",
    "}"
   ]
  },
  {
   "cell_type": "markdown",
   "metadata": {},
   "source": [
    "Editing the following code is not recommended. It mostly just unpacks those dictionaries and lets the `rayleigh_vapor` helper class do the rest."
   ]
  },
  {
   "cell_type": "code",
   "execution_count": null,
   "metadata": {},
   "outputs": [],
   "source": [
    "# DO NOT EDIT\n",
    "\n",
    "from rayleigh_diagnostics import rayleigh_vapor , gen_3d_filelist\n",
    "\n",
    "if run_dir[-1] != '/':\n",
    "    run_dir = run_dir + '/'\n",
    "\n",
    "if vapor_version == 2:\n",
    "    vapor_file=vapor_file+'_v2'\n",
    "\n",
    "var_codes = [v[\"code\"] for v in scalars.values()]\n",
    "var_names = [k for k in scalars]\n",
    "\n",
    "remove_spherical_means = [v[\"rm_spherical_mean\"] if \"rm_spherical_mean\" in v else False for v in scalars.values()]\n",
    "\n",
    "rmins = [v[\"radius_limits\"][0] if \"radius_limits\" in v else False for v in scalars.values()]\n",
    "rmaxes = [v[\"radius_limits\"][1] if \"radius_limits\" in v else False for v in scalars.values()]\n",
    "\n",
    "scalar_files = gen_3d_filelist(var_codes,diter,first_iter,last_iter,directory=run_dir+data_dir)\n",
    "\n",
    "vector_names = [key for key in vectors]\n",
    "vector_codes = [value for value in vectors.values()]\n",
    "\n",
    "vector_files = [\n",
    "    gen_3d_filelist(codes, diter, first_iter, last_iter, directory=run_dir+data_dir) for codes in vector_codes\n",
    "]"
   ]
  },
  {
   "cell_type": "code",
   "execution_count": 8,
   "metadata": {},
   "outputs": [],
   "source": [
    "# DO NOT EDIT\n",
    "\n",
    "test = rayleigh_vapor(name=vapor_file,varnames=var_names,varfiles=scalar_files,vapor_bin=vbin,\n",
    "                       nxyz=cube_size_N, grid_file=grid_file, rayleigh_root=rayleigh_root, force=True,\n",
    "                       remove_spherical_means=remove_spherical_means, rmaxes=rmaxes, rmins=rmins, \n",
    "                       vapor_version=vapor_version,\n",
    "                       vector_names=vector_names, vector_files=vector_files, tempdir=tempdir)\n",
    "test.create_dataset(force=overwrite)"
   ]
  },
  {
   "cell_type": "code",
   "execution_count": 9,
   "metadata": {},
   "outputs": [],
   "source": [
    "test.populate_dataset()"
   ]
  }
 ],
 "metadata": {
  "kernelspec": {
   "display_name": "Python 3",
   "language": "python",
   "name": "python3"
  },
  "language_info": {
   "codemirror_mode": {
    "name": "ipython",
    "version": 3
   },
   "file_extension": ".py",
   "mimetype": "text/x-python",
   "name": "python",
   "nbconvert_exporter": "python",
   "pygments_lexer": "ipython3",
   "version": "3.8.3"
  }
 },
 "nbformat": 4,
 "nbformat_minor": 2
}
